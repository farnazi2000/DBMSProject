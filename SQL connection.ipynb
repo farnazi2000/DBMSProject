{
 "cells": [
  {
   "cell_type": "code",
   "execution_count": 9,
   "id": "4c2d71e6",
   "metadata": {},
   "outputs": [],
   "source": [
    "# download the CSV file from URL and save it to a file data.csv \n",
    "import requests\n",
    "\n",
    "url = \"https://archive.ics.uci.edu/static/public/31/data.csv\"\n",
    "response = requests.get(url)\n",
    "\n",
    "with open(\"data.csv\", \"wb\") as file:\n",
    "    file.write(response.content)\n",
    "    \n",
    "    \n",
    "# after downloading the data file, we import the data in MySQL workbench directly \n",
    "# Step 1: create a schema named dbms having a table named forestdata\n",
    "# step 2: 'table data import wizard' to import data from csv to DB "
   ]
  },
  {
   "cell_type": "code",
   "execution_count": 10,
   "id": "5c672928",
   "metadata": {},
   "outputs": [
    {
     "name": "stdout",
     "output_type": "stream",
     "text": [
      "Requirement already satisfied: pandas in c:\\users\\radhika\\anaconda3\\lib\\site-packages (1.2.4)\n",
      "Requirement already satisfied: mysql-connector-python in c:\\users\\radhika\\anaconda3\\lib\\site-packages (8.3.0)\n",
      "Requirement already satisfied: python-dateutil>=2.7.3 in c:\\users\\radhika\\anaconda3\\lib\\site-packages (from pandas) (2.8.1)\n",
      "Requirement already satisfied: numpy>=1.16.5 in c:\\users\\radhika\\anaconda3\\lib\\site-packages (from pandas) (1.20.1)\n",
      "Requirement already satisfied: pytz>=2017.3 in c:\\users\\radhika\\anaconda3\\lib\\site-packages (from pandas) (2021.1)\n",
      "Requirement already satisfied: six>=1.5 in c:\\users\\radhika\\anaconda3\\lib\\site-packages (from python-dateutil>=2.7.3->pandas) (1.15.0)\n"
     ]
    }
   ],
   "source": [
    "!pip install pandas mysql-connector-python"
   ]
  },
  {
   "cell_type": "code",
   "execution_count": 11,
   "id": "8607faef",
   "metadata": {},
   "outputs": [],
   "source": [
    "# import libraries\n",
    "# mysql-connector-python allows Python to connect to a MySQL database, execute queries and retrieve data\n",
    "import mysql.connector\n",
    "from mysql.connector import Error\n",
    "import pandas as pd"
   ]
  },
  {
   "cell_type": "code",
   "execution_count": null,
   "id": "7296e2c5",
   "metadata": {},
   "outputs": [],
   "source": [
    "# Load the CSV file into a DataFrame\n",
    "df = pd.read_csv('data.csv')\n",
    "# print(df.head())"
   ]
  },
  {
   "cell_type": "code",
   "execution_count": null,
   "id": "00b23dd5",
   "metadata": {},
   "outputs": [],
   "source": [
    "import mysql.connector\n",
    "from mysql.connector import Error\n",
    "\n",
    "# def create_server_connection(host_name, user_name, user_password):\n",
    "\n",
    "# to establish the connection- host, username(usually root), sql workbench password and database name are required \n",
    "try:\n",
    "        connection = mysql.connector.connect(\n",
    "                                         host='localhost',\n",
    "                                         database='dbms',\n",
    "                                         user='root',\n",
    "                                         password='Tol@sql')\n",
    "        if connection.is_connected():\n",
    "            db_Info = connection.get_server_info()\n",
    "            print(\"Connected to MySQL Server version \", db_Info)\n",
    "            cursor = connection.cursor()\n",
    "            cursor.execute(\"select database();\")\n",
    "            record = cursor.fetchone()\n",
    "            print(\"You're connected to database: \", record)\n",
    "\n",
    "except Error as err:\n",
    "        print(\"Error while connecting to MySQL\", err)\n",
    "        \n",
    "#     finally:\n",
    "#         if (connection.is_connected()):\n",
    "#             cursor.close()\n",
    "#             connection.close()\n",
    "#             print(\"MySQL connection is closed\")"
   ]
  },
  {
   "cell_type": "code",
   "execution_count": null,
   "id": "00097e02",
   "metadata": {},
   "outputs": [],
   "source": [
    "connection"
   ]
  },
  {
   "cell_type": "code",
   "execution_count": null,
   "id": "5db2d7d5",
   "metadata": {},
   "outputs": [],
   "source": [
    "def read_query(connection, query):\n",
    "    cursor = connection.cursor()\n",
    "    try:\n",
    "        cursor.execute(query)\n",
    "        result = cursor.fetchall()\n",
    "        return result\n",
    "    except Error as err:\n",
    "        print(f'Error: {err}')"
   ]
  },
  {
   "cell_type": "code",
   "execution_count": null,
   "id": "d3608074",
   "metadata": {
    "scrolled": false
   },
   "outputs": [],
   "source": [
    "selection = \"\"\"\n",
    "select * from forestdata\n",
    "\"\"\"\n",
    "\n",
    "results = read_query(connection, selection)\n",
    "for result in results:\n",
    "    print(result)"
   ]
  },
  {
   "cell_type": "code",
   "execution_count": null,
   "id": "3a8602f0",
   "metadata": {},
   "outputs": [],
   "source": []
  }
 ],
 "metadata": {
  "kernelspec": {
   "display_name": "Python 3",
   "language": "python",
   "name": "python3"
  },
  "language_info": {
   "codemirror_mode": {
    "name": "ipython",
    "version": 3
   },
   "file_extension": ".py",
   "mimetype": "text/x-python",
   "name": "python",
   "nbconvert_exporter": "python",
   "pygments_lexer": "ipython3",
   "version": "3.8.8"
  }
 },
 "nbformat": 4,
 "nbformat_minor": 5
}
