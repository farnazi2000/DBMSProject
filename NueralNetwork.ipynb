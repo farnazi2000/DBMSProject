{
 "cells": [
  {
   "cell_type": "code",
   "execution_count": 1,
   "id": "22e3e937",
   "metadata": {},
   "outputs": [],
   "source": [
    "import pandas as pd\n",
    "import io\n",
    "import numpy as np\n",
    "from sklearn.model_selection import train_test_split\n",
    "from torch.utils.data import DataLoader, TensorDataset \n",
    "import torch\n",
    "import torch.nn as nn  # neural net layers and activations\n",
    "from torch.optim import SGD  # Our chosen optimizer\n",
    "from torch.utils.data import DataLoader, Dataset \n",
    "from sklearn.model_selection import KFold\n",
    "from sklearn.linear_model import LogisticRegression\n",
    "from sklearn.metrics import accuracy_score\n",
    "import torch.nn.functional as F\n",
    "import torch.nn as nn"
   ]
  },
  {
   "cell_type": "code",
   "execution_count": 2,
   "id": "084abaee",
   "metadata": {},
   "outputs": [],
   "source": [
    "X = pd.read_csv('TrainData.csv', delimiter =',') #training data\n",
    "y = pd.read_csv('selectivity.csv',delimiter=',') #true output labels, original"
   ]
  },
  {
   "cell_type": "code",
   "execution_count": 3,
   "id": "439e044a",
   "metadata": {},
   "outputs": [
    {
     "data": {
      "text/html": [
       "<div>\n",
       "<style scoped>\n",
       "    .dataframe tbody tr th:only-of-type {\n",
       "        vertical-align: middle;\n",
       "    }\n",
       "\n",
       "    .dataframe tbody tr th {\n",
       "        vertical-align: top;\n",
       "    }\n",
       "\n",
       "    .dataframe thead th {\n",
       "        text-align: right;\n",
       "    }\n",
       "</style>\n",
       "<table border=\"1\" class=\"dataframe\">\n",
       "  <thead>\n",
       "    <tr style=\"text-align: right;\">\n",
       "      <th></th>\n",
       "      <th>Elevation LB</th>\n",
       "      <th>Elevation UB</th>\n",
       "      <th>Aspect LB</th>\n",
       "      <th>Aspect UB</th>\n",
       "      <th>Slope LB</th>\n",
       "      <th>Slope UB</th>\n",
       "      <th>Horizontal_Distance_To_Hydrology LB</th>\n",
       "      <th>Horizontal_Distance_To_Hydrology UB</th>\n",
       "      <th>Vertical_Distance_To_Hydrology LB</th>\n",
       "      <th>Vertical_Distance_To_Hydrology UB</th>\n",
       "      <th>Horizontal_Distance_To_Roadways LB</th>\n",
       "      <th>Horizontal_Distance_To_Roadways UB</th>\n",
       "      <th>Hillshade_9am LB</th>\n",
       "      <th>Hillshade_9am UB</th>\n",
       "      <th>Hillshade_Noon LB</th>\n",
       "      <th>Hillshade_Noon UB</th>\n",
       "      <th>Hillshade_3pm LB</th>\n",
       "      <th>Hillshade_3pm UB</th>\n",
       "      <th>Horizontal_Distance_To_Fire_Points LB</th>\n",
       "      <th>Horizontal_Distance_To_Fire_Points UB</th>\n",
       "    </tr>\n",
       "  </thead>\n",
       "  <tbody>\n",
       "    <tr>\n",
       "      <th>0</th>\n",
       "      <td>3396.0</td>\n",
       "      <td>3726.0</td>\n",
       "      <td>0.0</td>\n",
       "      <td>0.0</td>\n",
       "      <td>0.0</td>\n",
       "      <td>0.0</td>\n",
       "      <td>0.0</td>\n",
       "      <td>0.0</td>\n",
       "      <td>0.0</td>\n",
       "      <td>0.0</td>\n",
       "      <td>0.0</td>\n",
       "      <td>0.0</td>\n",
       "      <td>0.0</td>\n",
       "      <td>0.0</td>\n",
       "      <td>0.0</td>\n",
       "      <td>0.0</td>\n",
       "      <td>0.0</td>\n",
       "      <td>0.0</td>\n",
       "      <td>0.0</td>\n",
       "      <td>0.0</td>\n",
       "    </tr>\n",
       "    <tr>\n",
       "      <th>1</th>\n",
       "      <td>2645.0</td>\n",
       "      <td>3033.0</td>\n",
       "      <td>0.0</td>\n",
       "      <td>0.0</td>\n",
       "      <td>0.0</td>\n",
       "      <td>0.0</td>\n",
       "      <td>0.0</td>\n",
       "      <td>0.0</td>\n",
       "      <td>0.0</td>\n",
       "      <td>0.0</td>\n",
       "      <td>0.0</td>\n",
       "      <td>0.0</td>\n",
       "      <td>0.0</td>\n",
       "      <td>0.0</td>\n",
       "      <td>0.0</td>\n",
       "      <td>0.0</td>\n",
       "      <td>0.0</td>\n",
       "      <td>0.0</td>\n",
       "      <td>0.0</td>\n",
       "      <td>0.0</td>\n",
       "    </tr>\n",
       "    <tr>\n",
       "      <th>2</th>\n",
       "      <td>2131.0</td>\n",
       "      <td>3247.0</td>\n",
       "      <td>0.0</td>\n",
       "      <td>0.0</td>\n",
       "      <td>0.0</td>\n",
       "      <td>0.0</td>\n",
       "      <td>0.0</td>\n",
       "      <td>0.0</td>\n",
       "      <td>0.0</td>\n",
       "      <td>0.0</td>\n",
       "      <td>0.0</td>\n",
       "      <td>0.0</td>\n",
       "      <td>0.0</td>\n",
       "      <td>0.0</td>\n",
       "      <td>0.0</td>\n",
       "      <td>0.0</td>\n",
       "      <td>0.0</td>\n",
       "      <td>0.0</td>\n",
       "      <td>0.0</td>\n",
       "      <td>0.0</td>\n",
       "    </tr>\n",
       "    <tr>\n",
       "      <th>3</th>\n",
       "      <td>3625.0</td>\n",
       "      <td>3809.0</td>\n",
       "      <td>0.0</td>\n",
       "      <td>0.0</td>\n",
       "      <td>0.0</td>\n",
       "      <td>0.0</td>\n",
       "      <td>0.0</td>\n",
       "      <td>0.0</td>\n",
       "      <td>0.0</td>\n",
       "      <td>0.0</td>\n",
       "      <td>0.0</td>\n",
       "      <td>0.0</td>\n",
       "      <td>0.0</td>\n",
       "      <td>0.0</td>\n",
       "      <td>0.0</td>\n",
       "      <td>0.0</td>\n",
       "      <td>0.0</td>\n",
       "      <td>0.0</td>\n",
       "      <td>0.0</td>\n",
       "      <td>0.0</td>\n",
       "    </tr>\n",
       "    <tr>\n",
       "      <th>4</th>\n",
       "      <td>3626.0</td>\n",
       "      <td>3642.0</td>\n",
       "      <td>0.0</td>\n",
       "      <td>0.0</td>\n",
       "      <td>0.0</td>\n",
       "      <td>0.0</td>\n",
       "      <td>0.0</td>\n",
       "      <td>0.0</td>\n",
       "      <td>0.0</td>\n",
       "      <td>0.0</td>\n",
       "      <td>0.0</td>\n",
       "      <td>0.0</td>\n",
       "      <td>0.0</td>\n",
       "      <td>0.0</td>\n",
       "      <td>0.0</td>\n",
       "      <td>0.0</td>\n",
       "      <td>0.0</td>\n",
       "      <td>0.0</td>\n",
       "      <td>0.0</td>\n",
       "      <td>0.0</td>\n",
       "    </tr>\n",
       "  </tbody>\n",
       "</table>\n",
       "</div>"
      ],
      "text/plain": [
       "   Elevation LB  Elevation UB  Aspect LB  Aspect UB  Slope LB  Slope UB  \\\n",
       "0        3396.0        3726.0        0.0        0.0       0.0       0.0   \n",
       "1        2645.0        3033.0        0.0        0.0       0.0       0.0   \n",
       "2        2131.0        3247.0        0.0        0.0       0.0       0.0   \n",
       "3        3625.0        3809.0        0.0        0.0       0.0       0.0   \n",
       "4        3626.0        3642.0        0.0        0.0       0.0       0.0   \n",
       "\n",
       "   Horizontal_Distance_To_Hydrology LB  Horizontal_Distance_To_Hydrology UB  \\\n",
       "0                                  0.0                                  0.0   \n",
       "1                                  0.0                                  0.0   \n",
       "2                                  0.0                                  0.0   \n",
       "3                                  0.0                                  0.0   \n",
       "4                                  0.0                                  0.0   \n",
       "\n",
       "   Vertical_Distance_To_Hydrology LB  Vertical_Distance_To_Hydrology UB  \\\n",
       "0                                0.0                                0.0   \n",
       "1                                0.0                                0.0   \n",
       "2                                0.0                                0.0   \n",
       "3                                0.0                                0.0   \n",
       "4                                0.0                                0.0   \n",
       "\n",
       "   Horizontal_Distance_To_Roadways LB  Horizontal_Distance_To_Roadways UB  \\\n",
       "0                                 0.0                                 0.0   \n",
       "1                                 0.0                                 0.0   \n",
       "2                                 0.0                                 0.0   \n",
       "3                                 0.0                                 0.0   \n",
       "4                                 0.0                                 0.0   \n",
       "\n",
       "   Hillshade_9am LB  Hillshade_9am UB  Hillshade_Noon LB  Hillshade_Noon UB  \\\n",
       "0               0.0               0.0                0.0                0.0   \n",
       "1               0.0               0.0                0.0                0.0   \n",
       "2               0.0               0.0                0.0                0.0   \n",
       "3               0.0               0.0                0.0                0.0   \n",
       "4               0.0               0.0                0.0                0.0   \n",
       "\n",
       "   Hillshade_3pm LB  Hillshade_3pm UB  Horizontal_Distance_To_Fire_Points LB  \\\n",
       "0               0.0               0.0                                    0.0   \n",
       "1               0.0               0.0                                    0.0   \n",
       "2               0.0               0.0                                    0.0   \n",
       "3               0.0               0.0                                    0.0   \n",
       "4               0.0               0.0                                    0.0   \n",
       "\n",
       "   Horizontal_Distance_To_Fire_Points UB  \n",
       "0                                    0.0  \n",
       "1                                    0.0  \n",
       "2                                    0.0  \n",
       "3                                    0.0  \n",
       "4                                    0.0  "
      ]
     },
     "execution_count": 3,
     "metadata": {},
     "output_type": "execute_result"
    }
   ],
   "source": [
    "X.replace(0.1,0.0,inplace=True)\n",
    "X.head()"
   ]
  },
  {
   "cell_type": "code",
   "execution_count": 4,
   "id": "b505878e",
   "metadata": {},
   "outputs": [],
   "source": [
    "#convert to numpy arrays\n",
    "X = X.values\n",
    "y = y.values #uaing this for model training"
   ]
  },
  {
   "cell_type": "code",
   "execution_count": 5,
   "id": "b3d78376",
   "metadata": {},
   "outputs": [
    {
     "data": {
      "text/plain": [
       "(20460, 20)"
      ]
     },
     "execution_count": 5,
     "metadata": {},
     "output_type": "execute_result"
    }
   ],
   "source": [
    "X.shape"
   ]
  },
  {
   "cell_type": "code",
   "execution_count": 6,
   "id": "443cb9c0",
   "metadata": {},
   "outputs": [
    {
     "data": {
      "text/plain": [
       "(20460, 1)"
      ]
     },
     "execution_count": 6,
     "metadata": {},
     "output_type": "execute_result"
    }
   ],
   "source": [
    "y.shape"
   ]
  },
  {
   "cell_type": "code",
   "execution_count": 7,
   "id": "17a15c3b",
   "metadata": {},
   "outputs": [],
   "source": [
    "epsilon = 1e-10\n",
    "y_log = np.log2(y + epsilon) #log transofmration of the selectivity labels used during training."
   ]
  },
  {
   "cell_type": "code",
   "execution_count": 8,
   "id": "c1ad1d5b",
   "metadata": {},
   "outputs": [],
   "source": [
    "X_train, X_test, y_train, y_test = train_test_split(X, y_log, test_size=0.2, random_state = 42) #testing 20%, trainig 80%"
   ]
  },
  {
   "cell_type": "code",
   "execution_count": 9,
   "id": "dd0eb1af",
   "metadata": {},
   "outputs": [],
   "source": [
    "#convert the X features to float tensors for pytorch.\n",
    "X_train = torch.FloatTensor(X_train)\n",
    "X_test = torch.FloatTensor(X_test)"
   ]
  },
  {
   "cell_type": "code",
   "execution_count": 10,
   "id": "e52064c6",
   "metadata": {},
   "outputs": [],
   "source": [
    "#converting selectivity, y labels to tensor\n",
    "y_train = torch.LongTensor(y_train)\n",
    "y_test = torch.LongTensor(y_test)"
   ]
  },
  {
   "cell_type": "code",
   "execution_count": 11,
   "id": "8be31138",
   "metadata": {},
   "outputs": [
    {
     "data": {
      "text/plain": [
       "torch.Size([16368, 20])"
      ]
     },
     "execution_count": 11,
     "metadata": {},
     "output_type": "execute_result"
    }
   ],
   "source": [
    "X_train.shape"
   ]
  },
  {
   "cell_type": "code",
   "execution_count": 12,
   "id": "ea6eac7f",
   "metadata": {},
   "outputs": [
    {
     "data": {
      "text/plain": [
       "torch.Size([16368, 1])"
      ]
     },
     "execution_count": 12,
     "metadata": {},
     "output_type": "execute_result"
    }
   ],
   "source": [
    "y_train.shape"
   ]
  },
  {
   "cell_type": "code",
   "execution_count": 13,
   "id": "9145e139",
   "metadata": {},
   "outputs": [],
   "source": [
    "y_train = y_train.float()\n",
    "y_test = y_test.float()"
   ]
  },
  {
   "cell_type": "code",
   "execution_count": 14,
   "id": "16ec22ea",
   "metadata": {},
   "outputs": [],
   "source": [
    "#Neural Network Model, 2 hidden layers.\n",
    "class MyModel(nn.Module):\n",
    "    def __init__(self):\n",
    "        super(MyModel, self).__init__() # instantiate nn model\n",
    "        self.fc1 = nn.Linear(20, 140)\n",
    "        self.fc2 = nn.Linear(140, 70)\n",
    "        self.out = nn.Linear(70, 1)  # Output layer with single neuron\n",
    "\n",
    "    def forward(self, x):\n",
    "        print(\"Input shape:\", x.shape)\n",
    "        h1 = F.relu(self.fc1(x))\n",
    "        print(\"Shape after fc1:\", h1.shape)\n",
    "        h2 = F.relu(self.fc2(h1))\n",
    "        print(\"Shape after fc2:\", h2.shape)\n",
    "        output = self.out(h2)  # Linear activation for output layer\n",
    "        print(\"Output shape:\", output.shape)\n",
    "        \n",
    "        return output\n"
   ]
  },
  {
   "cell_type": "code",
   "execution_count": 15,
   "id": "5f24adb5",
   "metadata": {},
   "outputs": [],
   "source": [
    "#Neural Network Model with 3 hidden layers\n",
    "class MyModel2(nn.Module):\n",
    "    def __init__(self):\n",
    "        super(MyModel2, self).__init__() # instantiate nn model\n",
    "        self.fc1 = nn.Linear(20, 140)\n",
    "        self.fc2 = nn.Linear(140, 70)\n",
    "        self.fc3 = nn.Linear(70,35)\n",
    "        self.out = nn.Linear(35, 1)  # Output layer with single neuron\n",
    "\n",
    "    def forward(self, x):\n",
    "        print(\"Input shape:\", x.shape)\n",
    "        h1 = F.relu(self.fc1(x))\n",
    "        print(\"Shape after fc1:\", h1.shape)\n",
    "        h2 = F.relu(self.fc2(h1))\n",
    "        print(\"Shape after fc2:\", h2.shape)\n",
    "        h3 = F.relu(self.fc3(h2))\n",
    "        print(\"Shape after fc3:\", h3.shape)\n",
    "        output = self.out(h3)  # Linear activation for output layer\n",
    "        print(\"Output shape:\", output.shape)\n",
    "        \n",
    "        return output\n"
   ]
  },
  {
   "cell_type": "code",
   "execution_count": 16,
   "id": "4a2870e0",
   "metadata": {},
   "outputs": [],
   "source": [
    "#random seed\n",
    "torch.manual_seed(40)\n",
    "#create an instance of the 2 models\n",
    "model = MyModel()\n",
    "model2 = MyModel2()"
   ]
  },
  {
   "cell_type": "code",
   "execution_count": 17,
   "id": "53708033",
   "metadata": {},
   "outputs": [],
   "source": [
    "#optimizer- wasn't specifically mentioned, popular methods are SGD ADAM,\n",
    "#learning rate wasn't specified, going to keep it as 0.01\n",
    "optimizer = torch.optim.Adam(model.parameters(), lr = 0.01)\n",
    "criterion = nn.MSELoss()"
   ]
  },
  {
   "cell_type": "code",
   "execution_count": null,
   "id": "8665aa26",
   "metadata": {},
   "outputs": [],
   "source": [
    "#train the model\n",
    "#keep track of the losses since we want the model to decrease the losses overtime\n",
    "epochs = 500\n",
    "batch_size = 50\n",
    "losses = []\n",
    "train_dataset = TensorDataset(X_train, y_train)\n",
    "train_loader = DataLoader(train_dataset, batch_size=batch_size, shuffle=True)\n",
    "for epoch in range(epochs):\n",
    "    epoch_loss = 0.0\n",
    "    for inputs, targets in train_loader:\n",
    "        optimizer.zero_grad()\n",
    "        outputs = model(inputs)\n",
    "        loss = criterion(outputs, targets)\n",
    "        loss.backward()\n",
    "        optimizer.step()\n",
    "        #epoch_loss += loss.item() * inputs.size(0)  # Multiply by batch size to get total loss for the epoch\n",
    "        epoch_loss += loss.item()/len(train_loader)\n",
    "        print(f'Epoch [{epoch+1}/{epochs}], Batch Loss: {loss.item():.4f}')  # Print batch loss, not the overall loss\n",
    "    epoch_loss /= len(train_loader.dataset)  # Calculate average loss per sample\n",
    "    print(f'Epoch [{epoch+1}/{epochs}], Loss: {epoch_loss:.4f}')  # Print epoch loss\n",
    "    losses.append(epoch_loss)"
   ]
  },
  {
   "cell_type": "code",
   "execution_count": 21,
   "id": "438d51ee",
   "metadata": {},
   "outputs": [
    {
     "data": {
      "image/png": "[encoded data removed]",
      "text/plain": [
       "<Figure size 640x480 with 1 Axes>"
      ]
     },
     "metadata": {},
     "output_type": "display_data"
    }
   ],
   "source": [
    "# Plot the loss values\n",
    "import matplotlib.pyplot as plt\n",
    "\n",
    "# Plot the loss values\n",
    "plt.plot(range(epochs), losses, label='Training Loss using Log transformation')\n",
    "plt.xlabel('Epoch')\n",
    "plt.ylabel('Loss')\n",
    "plt.title('Training Loss over Epochs')\n",
    "plt.legend()\n",
    "plt.grid(True)\n",
    "plt.show()\n"
   ]
  },
  {
   "cell_type": "code",
   "execution_count": 22,
   "id": "a0c8791c",
   "metadata": {},
   "outputs": [
    {
     "name": "stdout",
     "output_type": "stream",
     "text": [
      "Input shape: torch.Size([4092, 20])\n",
      "Shape after fc1: torch.Size([4092, 140])\n",
      "Shape after fc2: torch.Size([4092, 70])\n",
      "Output shape: torch.Size([4092, 1])\n",
      "Test Loss: 37.23626708984375\n"
     ]
    },
    {
     "data": {
      "image/png": "[encoded data removed]",
      "text/plain": [
       "<Figure size 640x480 with 1 Axes>"
      ]
     },
     "metadata": {},
     "output_type": "display_data"
    }
   ],
   "source": [
    "# Pass the testing data through the trained model to make predictions\n",
    "with torch.no_grad():\n",
    "    y_pred_test = model.forward(X_test)\n",
    "\n",
    "# Compute the loss for the testing data\n",
    "mse = nn.MSELoss()\n",
    "test_loss = mse(y_pred_test, y_test)\n",
    "\n",
    "# Print the test loss\n",
    "print(\"Test Loss:\", test_loss.item())\n",
    "\n",
    "# Now, let's plot the loss\n",
    "plt.figure()\n",
    "plt.plot(range(len(y_test)), (y_pred_test - y_test)**2, label='Squared Error')\n",
    "plt.xlabel('Sample')\n",
    "plt.ylabel('Loss')\n",
    "plt.title('Squared Error Loss for Testing Data using Log Transformation Selectivity Data')\n",
    "plt.legend()\n",
    "plt.grid(True)\n",
    "plt.show()\n"
   ]
  },
  {
   "cell_type": "code",
   "execution_count": null,
   "id": "74a8edfd",
   "metadata": {},
   "outputs": [],
   "source": []
  }
 ],
 "metadata": {
  "kernelspec": {
   "display_name": "Python 3 (ipykernel)",
   "language": "python",
   "name": "python3"
  },
  "language_info": {
   "codemirror_mode": {
    "name": "ipython",
    "version": 3
   },
   "file_extension": ".py",
   "mimetype": "text/x-python",
   "name": "python",
   "nbconvert_exporter": "python",
   "pygments_lexer": "ipython3",
   "version": "3.10.9"
  }
 },
 "nbformat": 4,
 "nbformat_minor": 5
}
